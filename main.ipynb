{
 "cells": [
  {
   "cell_type": "markdown",
   "metadata": {},
   "source": [
    "<h2>Research Question:</h2>\n",
    "<p>What are the prevalence rates of ADHD in children by age and ethnicity, and how does treatment vary across these groups? Can culturally modified treatments improve outcomes, and if so, how?</p>\n",
    "\n",
    "<h2>Introduction</h2>\n",
    "<h4><b>What is ADHD?</b></h4>\n",
    "\n",
    "<p><b>Attention Deficit Hyperactivity Disorder (ADHD)</b> is a neurodevelopmental condition marked by inattention, hyperactivity, and impulsivity, affecting daily life and development. </p>"
   ]
  },
  {
   "cell_type": "markdown",
   "metadata": {},
   "source": [
    "<h5><b>Data Sources:</b></h5>\n",
    "<ul>\n",
    "    <li>Journal Article (Figures & data): <a href=\"https://www.tandfonline.com/doi/figure/10.1080/15374416.2024.2335625?scroll=top&needAccess=true\" target=\"_blank\">ADHD Prevalence Among U.S. Children and Adolescents in 2022</a></li>\n",
    "    <li>Clinical Trial: <a href=\"https://www.clinicaltrials.gov/study/NCT02317692?cond=ADHD&term=latino&limit=100&page=1&rank=1\" target=\"_blank\">ADHD Treatment for Latino Families</a></li>\n",
    "</ul>"
   ]
  },
  {
   "cell_type": "markdown",
   "metadata": {},
   "source": [
    "<h5><b>First, we will start with the Journal Article</b></h5>\n",
    "\n",
    "Creating a DataFrame from table 1:"
   ]
  },
  {
   "cell_type": "code",
   "execution_count": 3,
   "metadata": {},
   "outputs": [
    {
     "ename": "ImportError",
     "evalue": "Unable to import required dependencies:\nnumpy: Error importing numpy: you should not try to import numpy from\n        its source directory; please exit the numpy source tree, and relaunch\n        your python interpreter from there.",
     "output_type": "error",
     "traceback": [
      "\u001b[0;31m---------------------------------------------------------------------------\u001b[0m",
      "\u001b[0;31mImportError\u001b[0m                               Traceback (most recent call last)",
      "Cell \u001b[0;32mIn[3], line 1\u001b[0m\n\u001b[0;32m----> 1\u001b[0m \u001b[38;5;28;01mimport\u001b[39;00m\u001b[38;5;250m \u001b[39m\u001b[38;5;21;01mpandas\u001b[39;00m\u001b[38;5;250m \u001b[39m\u001b[38;5;28;01mas\u001b[39;00m\u001b[38;5;250m \u001b[39m\u001b[38;5;21;01mpd\u001b[39;00m\n\u001b[1;32m      3\u001b[0m \u001b[38;5;66;03m# Reference: https://stackoverflow.com/questions/45652772/pandas-read-csv-is-shifting-columns\u001b[39;00m\n\u001b[1;32m      4\u001b[0m df_table1 \u001b[38;5;241m=\u001b[39m pd\u001b[38;5;241m.\u001b[39mread_csv(\u001b[38;5;124m\"\u001b[39m\u001b[38;5;124mtable_1_prevalence_of_adhd.csv\u001b[39m\u001b[38;5;124m\"\u001b[39m, sep\u001b[38;5;241m=\u001b[39m\u001b[38;5;124m'\u001b[39m\u001b[38;5;124m,\u001b[39m\u001b[38;5;124m'\u001b[39m, index_col\u001b[38;5;241m=\u001b[39m\u001b[38;5;28;01mFalse\u001b[39;00m)\n",
      "File \u001b[0;32m~/Desktop/ADHD Research/.venv/lib/python3.12/site-packages/pandas/__init__.py:19\u001b[0m\n\u001b[1;32m     16\u001b[0m         _missing_dependencies\u001b[38;5;241m.\u001b[39mappend(\u001b[38;5;124mf\u001b[39m\u001b[38;5;124m\"\u001b[39m\u001b[38;5;132;01m{\u001b[39;00m_dependency\u001b[38;5;132;01m}\u001b[39;00m\u001b[38;5;124m: \u001b[39m\u001b[38;5;132;01m{\u001b[39;00m_e\u001b[38;5;132;01m}\u001b[39;00m\u001b[38;5;124m\"\u001b[39m)\n\u001b[1;32m     18\u001b[0m \u001b[38;5;28;01mif\u001b[39;00m _missing_dependencies:  \u001b[38;5;66;03m# pragma: no cover\u001b[39;00m\n\u001b[0;32m---> 19\u001b[0m     \u001b[38;5;28;01mraise\u001b[39;00m \u001b[38;5;167;01mImportError\u001b[39;00m(\n\u001b[1;32m     20\u001b[0m         \u001b[38;5;124m\"\u001b[39m\u001b[38;5;124mUnable to import required dependencies:\u001b[39m\u001b[38;5;130;01m\\n\u001b[39;00m\u001b[38;5;124m\"\u001b[39m \u001b[38;5;241m+\u001b[39m \u001b[38;5;124m\"\u001b[39m\u001b[38;5;130;01m\\n\u001b[39;00m\u001b[38;5;124m\"\u001b[39m\u001b[38;5;241m.\u001b[39mjoin(_missing_dependencies)\n\u001b[1;32m     21\u001b[0m     )\n\u001b[1;32m     22\u001b[0m \u001b[38;5;28;01mdel\u001b[39;00m _hard_dependencies, _dependency, _missing_dependencies\n\u001b[1;32m     24\u001b[0m \u001b[38;5;28;01mtry\u001b[39;00m:\n\u001b[1;32m     25\u001b[0m     \u001b[38;5;66;03m# numpy compat\u001b[39;00m\n",
      "\u001b[0;31mImportError\u001b[0m: Unable to import required dependencies:\nnumpy: Error importing numpy: you should not try to import numpy from\n        its source directory; please exit the numpy source tree, and relaunch\n        your python interpreter from there."
     ]
    }
   ],
   "source": [
    "import pandas as pd\n",
    "\n",
    "# Reference: https://stackoverflow.com/questions/45652772/pandas-read-csv-is-shifting-columns\n",
    "df_table1 = pd.read_csv(\"table_1_prevalence_of_adhd.csv\", sep=',', index_col=False)\n",
    "\n",
    "# Reference: https://stackoverflow.com/questions/11346283/renaming-column-names-in-pandas\n",
    "df_table1.rename(columns={'Unnamed: 0': 'Category'}, inplace=True)\n",
    "df_table1.rename(columns={'Unnamed: 3': 'Ever PR (Prevalence Ratio)'}, inplace=True)\n",
    "df_table1.rename(columns={'Unnamed: 5': 'Has PR (Prevalence Ratio)'}, inplace=True)\n",
    "df_table1"
   ]
  },
  {
   "cell_type": "markdown",
   "metadata": {},
   "source": [
    "Creating a DataFrame from table 2: "
   ]
  },
  {
   "cell_type": "code",
   "execution_count": null,
   "metadata": {},
   "outputs": [],
   "source": [
    "df_table2 = pd.read_csv(\"table_2_distribution_of_adhd_severity.csv\", sep=',', index_col=False)\n",
    "df_table2.rename(columns={'Unnamed: 0': 'Category'}, inplace=True)\n",
    "df_table2.rename(columns={'Severe ADHD.1': 'Severe ADHD PR '}, inplace=True)\n",
    "df_table2"
   ]
  },
  {
   "cell_type": "markdown",
   "metadata": {},
   "source": [
    "Creating a DataFrame from table 5:"
   ]
  },
  {
   "cell_type": "code",
   "execution_count": null,
   "metadata": {},
   "outputs": [],
   "source": [
    "df_table5 = pd.read_csv(\"table_5_adhd_treatment_types.csv\", sep=',', index_col=False)\n",
    "\n",
    "df_table5.rename(columns={'Unnamed: 0': 'Category'}, inplace=True)\n",
    "df_table5.rename(columns={'Unnamed: 5': 'PR'}, inplace=True)\n",
    "df_table5"
   ]
  },
  {
   "cell_type": "markdown",
   "metadata": {},
   "source": [
    "<h5>Extracting Data from <b>Table 1</b> based on:</h5>\n",
    "\n",
    "- Race\n",
    "- Current ADHD Diagnosis"
   ]
  },
  {
   "cell_type": "code",
   "execution_count": null,
   "metadata": {},
   "outputs": [],
   "source": [
    "# Reference: https://www.geeksforgeeks.org/get-a-specific-row-in-a-given-pandas-dataframe/\n",
    "# Reference: https://www.geeksforgeeks.org/pandas-dataframe-get_value/\n",
    "\n",
    "import re \n",
    "\n",
    "race = []\n",
    "percentages = []\n",
    "prevalence_list = []\n",
    "\n",
    "print(\"Current ADHD Diagnosis by Race:\\n\")\n",
    "rows = [10, 11, 12, 13, 14, 15]\n",
    "\n",
    "for row in rows: \n",
    "    category = df_table1._get_value(row, 0, takeable=True).strip()  # Extract category\n",
    "    percentage = df_table1._get_value(row, 4, takeable=True).split(' ')[0]  # Extract percentage\n",
    "    # Reference: https://stackoverflow.com/questions/13682044/remove-unwanted-parts-from-strings-in-a-column\n",
    "    # Reference: https://www.w3schools.com/python/python_regex.asp\n",
    "    percentage = re.match(r'(^\\d+(\\.\\d+)?(?=[^\\d]|$))',percentage).group().strip()\n",
    "    prevalence  = df_table1._get_value(row, 5, takeable=True).split(' ')[0].strip()  # Extract prevalence \n",
    "    race.append(category)\n",
    "    percentages.append(float(percentage))\n",
    "    if prevalence == 'Ref.':\n",
    "        reference_group = category\n",
    "        prevalence = 1\n",
    "    prevalence_list.append(float(prevalence))\n",
    "    print(f\"{category}: {percentage}%, PR: {prevalence}\")"
   ]
  },
  {
   "cell_type": "markdown",
   "metadata": {},
   "source": [
    "Sorting the data: "
   ]
  },
  {
   "cell_type": "code",
   "execution_count": null,
   "metadata": {},
   "outputs": [],
   "source": [
    "# Reference: https://stackoverflow.com/questions/36622977/sorting-one-list-based-on-the-results-of-python-in-descending-order\n",
    "z = list(zip(race, percentages, prevalence_list))\n",
    "z = sorted(z, key=lambda i: i[1], reverse=True)\n",
    "race, percentages, prevalence_list = list(zip(*z))\n",
    "\n",
    "print(f\"Sorted: \\n {race}, \\n {percentages}, \\n {prevalence_list}\")"
   ]
  },
  {
   "cell_type": "markdown",
   "metadata": {},
   "source": [
    "<h5><b>Bar Chart:</b> ADHD Prevalence by Race</h5>"
   ]
  },
  {
   "cell_type": "code",
   "execution_count": null,
   "metadata": {},
   "outputs": [],
   "source": [
    "# Reference: https://matplotlib.org/stable/gallery/lines_bars_and_markers/bar_colors.html#sphx-glr-gallery-lines-bars-and-markers-bar-colors-py\n",
    "# Reference: https://matplotlib.org/stable/gallery/color/named_colors.html\n",
    "# Reference: https://stackoverflow.com/questions/10998621/rotate-axis-tick-labels\n",
    "# Reference: https://www.geeksforgeeks.org/how-to-annotate-bars-in-barplot-with-matplotlib-in-python/\n",
    "\n",
    "import matplotlib.pyplot as plt\n",
    "\n",
    "fig, ax = plt.subplots(figsize=(10, 6))\n",
    "\n",
    "ax.set_ylabel('CI Percentage (%)')\n",
    "ax.set_title('ADHD Prevalence Among U.S. Children and Adolescents in 2022 by Race')\n",
    "plt.xticks(rotation=45, ha='right')\n",
    "\n",
    "# Reference: https://www.geeksforgeeks.org/how-to-annotate-bars-in-barplot-with-matplotlib-in-python/\n",
    "bars = plt.bar(race, percentages, color='skyblue')\n",
    "\n",
    "ax.margins(y=0.2)  # Add 20% margin above the tallest bar\n",
    "\n",
    "# Annotate above bars (prevalence ratios)\n",
    "for bar, pr in zip(bars, prevalence_list):\n",
    "    plt.text(\n",
    "        bar.get_x() + bar.get_width() / 2, \n",
    "        bar.get_height() + 0.5, \n",
    "        f'PR: {pr:.2f}', \n",
    "        ha='center', \n",
    "        va='bottom', \n",
    "        fontsize=10\n",
    "    )\n",
    "\n",
    "# Reference: https://stackoverflow.com/questions/63799934/how-to-annotate-a-bar-plot-and-add-a-custom-legend\n",
    "\n",
    "# Add a legend\n",
    "plt.legend(title=f'PR = Prevalence Ratio\\nReference group = {reference_group}', loc='upper right', fontsize=12, frameon=True)\n",
    "\n",
    "# Show the plot\n",
    "plt.tight_layout()  # Ensure everything fits within the figure\n",
    "plt.show()"
   ]
  },
  {
   "cell_type": "markdown",
   "metadata": {},
   "source": [
    "<h5><b>Extracting Data from Table 1 based on:</b></h5>\n",
    "\n",
    "- Ethnicity\n",
    "- Current ADHD Diagnosis"
   ]
  },
  {
   "cell_type": "code",
   "execution_count": null,
   "metadata": {},
   "outputs": [],
   "source": [
    "ethnicity = []\n",
    "e_percentages = []\n",
    "e_prevalence_list = []\n",
    "\n",
    "print(\"Current ADHD Diagnosis by Ethnicity:\\n\")\n",
    "\n",
    "e_rows = [17,18]\n",
    "\n",
    "for row in e_rows: \n",
    "    e_category = df_table1._get_value(row, 0, takeable=True).strip()  # Extract category\n",
    "    e_percentage = df_table1._get_value(row, 4, takeable=True).split(' ')[0]  # Extract percentage\n",
    "    e_percentage = re.match(r'(^\\d+(\\.\\d+)?(?=[^\\d]|$))', e_percentage).group().strip() # Extract percentage\n",
    "    e_prevalence  = df_table1._get_value(row, 5, takeable=True).split(' ')[0].strip()  # Extract prevalence \n",
    "    ethnicity.append(e_category)\n",
    "    e_percentages.append(float(e_percentage))\n",
    "    if e_prevalence == 'Ref.':\n",
    "        reference_group2 = e_category\n",
    "        e_prevalence = 1\n",
    "    e_prevalence_list.append(float(e_prevalence))\n",
    "    print(f\"{e_category}: {e_percentage}%, PR: {e_prevalence}\")"
   ]
  },
  {
   "cell_type": "markdown",
   "metadata": {},
   "source": [
    "Sorting the data: "
   ]
  },
  {
   "cell_type": "code",
   "execution_count": null,
   "metadata": {},
   "outputs": [],
   "source": [
    "z = list(zip(ethnicity, e_percentages, e_prevalence_list))\n",
    "z = sorted(z, key=lambda i: i[1], reverse=True)\n",
    "ethnicity, e_percentages, e_prevalence_list = list(zip(*z))\n",
    "\n",
    "print(f\"Sorted: \\n {ethnicity}, \\n {e_percentages}, \\n {e_prevalence_list}\")"
   ]
  },
  {
   "cell_type": "markdown",
   "metadata": {},
   "source": [
    "<h5><b>Bar Chart:</b> ADHD Prevalence by Ethnicity</h5>"
   ]
  },
  {
   "cell_type": "code",
   "execution_count": null,
   "metadata": {},
   "outputs": [],
   "source": [
    "fig, ax = plt.subplots(figsize=(7, 5))\n",
    "\n",
    "ax.set_ylabel('CI Percentage (%)')\n",
    "ax.set_title('ADHD Prevalence Among U.S. Children and Adolescents in 2022 by Ethnicity')\n",
    "ax.margins(y=0.12)  # Add 12% margin above the tallest bar\n",
    "\n",
    "bars = plt.bar(ethnicity, e_percentages, color='skyblue', width = 0.5)\n",
    "\n",
    "# Annotate above bars (prevalence ratios)\n",
    "for bar, pr in zip(bars, e_prevalence_list):\n",
    "    plt.text(\n",
    "        bar.get_x() + bar.get_width() / 2, \n",
    "        bar.get_height() + 0.5, \n",
    "        f'PR: {pr:.2f}', \n",
    "        ha='center', \n",
    "        va='bottom', \n",
    "        fontsize=10\n",
    "    )\n",
    "\n",
    "# Add a legend\n",
    "plt.legend(title=f'PR = Prevalence Ratio\\nReference group = {reference_group2}', loc='upper right', fontsize=12, frameon=True)\n",
    "# Show the plot\n",
    "plt.tight_layout()  # Ensure everything fits within the figure\n",
    "plt.show()"
   ]
  },
  {
   "cell_type": "markdown",
   "metadata": {},
   "source": [
    "<h5>Extracting Data from <b>Table 2</b> based on:</h5>\n",
    "\n",
    "- ADHD Severity\n",
    "- Ethnicity "
   ]
  },
  {
   "cell_type": "code",
   "execution_count": null,
   "metadata": {},
   "outputs": [],
   "source": [
    "ethnicity = []\n",
    "e2_percentages = []\n",
    "e2_severe_prevalence_list = []\n",
    "\n",
    "print(\"ADHD Severity by Ethnicity:\\n\")\n",
    "e2_rows = [17, 18]\n",
    "\n",
    "for row in e2_rows: \n",
    "    e_category = df_table2._get_value(row, 0, takeable=True).strip()  # Extract category\n",
    "    mild = float(df_table2._get_value(row, 2, takeable=True).split(' ')[0]) # Extract mild percentage\n",
    "    moderate = float(df_table2._get_value(row, 3, takeable=True).split(' ')[0])  # Extract moderate percentage\n",
    "    severe = float(df_table2._get_value(row, 4, takeable=True).split(' ')[0])  # Extract severe percentage\n",
    "    severe_adhd_prevalence = df_table2._get_value(row, 5, takeable=True).split(' ')[0].strip()  # Extract prevalence \n",
    "    ethnicity.append(e_category)\n",
    "    e2_percentages.append([mild, moderate, severe])\n",
    "    if severe_adhd_prevalence == 'Ref.':\n",
    "        severe_adhd_prevalence = 1\n",
    "    e2_severe_prevalence_list.append(float(severe_adhd_prevalence))\n",
    "    print(f\"{e_category}: Mild: {mild}%, Moderate: {moderate}%, Severe: {severe}%, Severe PR: {severe_adhd_prevalence}\")"
   ]
  },
  {
   "cell_type": "markdown",
   "metadata": {},
   "source": [
    "Sorting the data:"
   ]
  },
  {
   "cell_type": "code",
   "execution_count": null,
   "metadata": {},
   "outputs": [],
   "source": [
    "# Sort data by 'mild' percentages \n",
    "z = list(zip(ethnicity, e2_percentages, e2_severe_prevalence_list))\n",
    "z = sorted(z, key=lambda i: i[1][0], reverse=True)  \n",
    "ethnicity, e2_percentages, e2_prevalence_list = list(zip(*z))\n",
    "\n",
    "print(f\"Sorted: \\n {ethnicity}, \\n {e2_percentages}, \\n {e2_severe_prevalence_list}\")"
   ]
  },
  {
   "cell_type": "markdown",
   "metadata": {},
   "source": [
    "<h5><b>Bar Chart:</b> ADHD Severity by Ethnicity</h5>\n"
   ]
  },
  {
   "cell_type": "code",
   "execution_count": null,
   "metadata": {},
   "outputs": [],
   "source": [
    "# Reference: https://www.geeksforgeeks.org/create-a-grouped-bar-plot-in-matplotlib/\n",
    "\n",
    "import matplotlib.pyplot as plt \n",
    "import numpy as np \n",
    "\n",
    "fig, ax = plt.subplots(figsize=(8, 6))\n",
    "ax.margins(y=0.30)  # Add 30% margin above the tallest bar\n",
    "ax.set_title('ADHD Severity Among U.S. Children and Adolescents in 2022 by Ethnicity')\n",
    "x = np.arange(len(ethnicity)) \n",
    "\n",
    "mild = e2_percentages[0][0], e2_percentages[1][0]\n",
    "moderate = e2_percentages[0][1], e2_percentages[1][1]\n",
    "severe = e2_percentages[0][2], e2_percentages[1][2]\n",
    "width = 0.2\n",
    "\n",
    "# Plot data in grouped manner of bar type \n",
    "bars_mild = plt.bar(x - 0.2, mild, width, color='cyan', label=\"Mild\") \n",
    "bars_moderate = plt.bar(x, moderate, width, color='orange', label=\"Moderate\") \n",
    "bars_severe = plt.bar(x + 0.2, severe, width, color='green', label=\"Severe\") \n",
    "plt.xticks(x, ethnicity) \n",
    "plt.xlabel(\"Ethnicity\") \n",
    "plt.ylabel(\"CI: 95% Confidence interval\") \n",
    "# Reference: https://www.geeksforgeeks.org/change-the-legend-position-in-matplotlib/\n",
    "plt.legend(loc='upper right') \n",
    "\n",
    "all_bars = bars_mild, bars_moderate, bars_severe\n",
    "\n",
    "# Reference: https://www.geeksforgeeks.org/how-to-annotate-bars-in-barplot-with-matplotlib-in-python/\n",
    "# Annotate bars\n",
    "for bars in all_bars:\n",
    "    for bar in bars:\n",
    "        plt.text(\n",
    "            bar.get_x() + bar.get_width() / 2,  # x-coordinate\n",
    "            bar.get_height(),                  # y-coordinate\n",
    "            f'{bar.get_height():.2f}',         # Annotation text\n",
    "            ha='center', va='bottom', fontsize=10  # Text alignment\n",
    "        )\n",
    "\n",
    "plt.tight_layout()  # Ensure everything fits within the figure\n",
    "plt.show() "
   ]
  },
  {
   "cell_type": "markdown",
   "metadata": {},
   "source": [
    "<h5>Extracting Data from <b>Table 5</b> based on:</h5>\n",
    "\n",
    "- ADHD Treatment Type\n",
    "- Ethnicity "
   ]
  },
  {
   "cell_type": "code",
   "execution_count": null,
   "metadata": {},
   "outputs": [],
   "source": [
    "ethnicity = []\n",
    "e3_rows = [17, 18]\n",
    "treatment_percentages = []\n",
    "\n",
    "print(\"ADHD Treatment Type by Ethnicity: \\n\")\n",
    "\n",
    "for row in e3_rows: \n",
    "    e_category = df_table5._get_value(row, 0, takeable=True).strip()  # Extract category\n",
    "    both = float(df_table5._get_value(row, 1, takeable=True).split(' ')[0]) # Extract mild percentage\n",
    "    medication_only = float(df_table5._get_value(row, 2, takeable=True).split(' ')[0])  # Extract moderate percentage\n",
    "    behavioral_treatment_only = float(df_table5._get_value(row, 3, takeable=True).split(' ')[0])  # Extract severe percentage\n",
    "    neither = float(df_table5._get_value(row, 4, takeable=True).split(' ')[0])  # Extract severe percentage\n",
    "    ethnicity.append(e_category)\n",
    "    treatment_percentages.append([both, medication_only, behavioral_treatment_only, neither])\n",
    "    print(f\"{e_category}: Both: {both}%, Medication only: {medication_only}%, Behavioral Treatment only: {behavioral_treatment_only}%, Neither: {neither}%\")"
   ]
  },
  {
   "cell_type": "markdown",
   "metadata": {},
   "source": [
    "Sorting the data: "
   ]
  },
  {
   "cell_type": "code",
   "execution_count": null,
   "metadata": {},
   "outputs": [],
   "source": [
    "z = list(zip(ethnicity, treatment_percentages))\n",
    "z = sorted(z, key=lambda i: i[1][0], reverse=True)  \n",
    "ethnicity, treatment_percentages = list(zip(*z))\n",
    "\n",
    "print(f\"Sorted: \\n {ethnicity},\\n {treatment_percentages}\")"
   ]
  },
  {
   "cell_type": "markdown",
   "metadata": {},
   "source": [
    "<h5><b>Bar Chart:</b> ADHD Treatment Type by Ethnicity</h5>"
   ]
  },
  {
   "cell_type": "code",
   "execution_count": null,
   "metadata": {},
   "outputs": [],
   "source": [
    "import matplotlib.pyplot as plt \n",
    "import numpy as np \n",
    "\n",
    "fig, ax = plt.subplots(figsize=(10, 6))\n",
    "ax.margins(y=0.50)  # Add 50% margin above the tallest bar\n",
    "ax.set_title('ADHD Treatment Type Among U.S. Children and Adolescents in 2022 by Ethnicity')\n",
    "x = np.arange(len(ethnicity)) \n",
    "\n",
    "both = treatment_percentages[0][0], treatment_percentages[1][0]\n",
    "medication_only = treatment_percentages[0][1], treatment_percentages[1][1]\n",
    "behavioral_treatment_only = treatment_percentages[0][2], treatment_percentages[1][2]\n",
    "neither = treatment_percentages[0][3], treatment_percentages[1][3]\n",
    "width = 0.2\n",
    "  \n",
    "# Plot data in grouped manner of bar type \n",
    "bars_both = plt.bar(x - 0.2, both, width, color='cyan', label=\"Both\") \n",
    "bars_medication_only = plt.bar(x, medication_only, width, color='orange', label=\"Medication only\") \n",
    "bars_behavioral_treatment_only = plt.bar(x + 0.2, behavioral_treatment_only, width, color='green', label=\"Behavioral Treatment only\") \n",
    "bars_neither = plt.bar(x + 0.4, neither, width, color='red', label=\"Neither\") \n",
    "\n",
    "plt.xticks(x, ethnicity) \n",
    "plt.xlabel(\"Ethnicity\") \n",
    "plt.ylabel(\"CI: 95% Confidence interval\") \n",
    "plt.legend(loc='upper right') \n",
    "\n",
    "all_bars_treatment = bars_both, bars_medication_only, bars_behavioral_treatment_only, bars_neither\n",
    "\n",
    "for bars in all_bars_treatment:\n",
    "    for bar in bars:\n",
    "        plt.text(\n",
    "            bar.get_x() + bar.get_width() / 2,  # x-coordinate\n",
    "            bar.get_height(),                  # y-coordinate\n",
    "            f'{bar.get_height():.2f}',         # Annotation text\n",
    "            ha='center', va='bottom', fontsize=10  # Text alignment\n",
    "        )\n",
    "\n",
    "plt.tight_layout()  # Ensure everything fits within the figure\n",
    "plt.show() "
   ]
  },
  {
   "cell_type": "markdown",
   "metadata": {},
   "source": [
    "<h5><b>Second, we will focus on the Clinical Trial: ADHD Treatment for Latino Families</b></h5>\n"
   ]
  },
  {
   "cell_type": "code",
   "execution_count": null,
   "metadata": {},
   "outputs": [],
   "source": [
    "# Reference: https://www.clinicaltrials.gov/data-api/api\n",
    "# Reference: https://stackoverflow.com/questions/59306252/importing-json-file-url-to-pandas-data-frame\n",
    "import pandas as pd\n",
    "import csv\n",
    "import json\n",
    "import requests\n",
    "\n",
    "url = \"https://clinicaltrials.gov/api/v2/studies/NCT02317692\"\n",
    "response = requests.get(url)\n",
    "clinical_trials = response.json()\n",
    "clinical_trials"
   ]
  },
  {
   "cell_type": "markdown",
   "metadata": {},
   "source": [
    "Accessing the Keys"
   ]
  },
  {
   "cell_type": "code",
   "execution_count": null,
   "metadata": {},
   "outputs": [],
   "source": [
    "for key in clinical_trials.keys():\n",
    "    print(key)"
   ]
  },
  {
   "cell_type": "markdown",
   "metadata": {},
   "source": [
    "Creating a DataFrame from the Clinical Trials Results Section"
   ]
  },
  {
   "cell_type": "code",
   "execution_count": null,
   "metadata": {},
   "outputs": [],
   "source": [
    "df_ct_results_section = pd.DataFrame(clinical_trials['resultsSection'])\n",
    "df_ct_results_section"
   ]
  },
  {
   "cell_type": "code",
   "execution_count": null,
   "metadata": {},
   "outputs": [],
   "source": [
    "outcomeMeasures = df_ct_results_section[\"outcomeMeasuresModule\"][7]\n",
    "outcomeMeasures"
   ]
  },
  {
   "cell_type": "code",
   "execution_count": null,
   "metadata": {},
   "outputs": [],
   "source": [
    "df_normalize_outcomes_measures = pd.json_normalize(outcomeMeasures)\n",
    "df_normalize_outcomes_measures"
   ]
  },
  {
   "cell_type": "markdown",
   "metadata": {},
   "source": [
    "Converting Outcome Measure Titles to a DataFrame"
   ]
  },
  {
   "cell_type": "code",
   "execution_count": null,
   "metadata": {},
   "outputs": [],
   "source": [
    "title = df_normalize_outcomes_measures[\"title\"]\n",
    "title\n",
    "\n",
    "# Reference: https://stackoverflow.com/questions/26097916/convert-pandas-series-to-dataframe\n",
    "title_df = pd.DataFrame({'Title':title.values})\n",
    "title_df"
   ]
  },
  {
   "cell_type": "markdown",
   "metadata": {},
   "source": [
    "Converting Outcome Measure Descriptions to a DataFrame"
   ]
  },
  {
   "cell_type": "code",
   "execution_count": null,
   "metadata": {},
   "outputs": [],
   "source": [
    "descriptions = df_normalize_outcomes_measures[\"description\"]\n",
    "descriptions\n",
    "\n",
    "descriptions_df = pd.DataFrame({'Descriptions':descriptions.values})\n",
    "descriptions_df"
   ]
  },
  {
   "cell_type": "markdown",
   "metadata": {},
   "source": [
    "Extracting Groups from Outcome Measures as a List"
   ]
  },
  {
   "cell_type": "code",
   "execution_count": null,
   "metadata": {},
   "outputs": [],
   "source": [
    "groups = list(df_normalize_outcomes_measures[\"groups\"])\n",
    "groups"
   ]
  },
  {
   "cell_type": "markdown",
   "metadata": {},
   "source": [
    "Normalizing and Converting Groups Data into a DataFrame"
   ]
  },
  {
   "cell_type": "code",
   "execution_count": null,
   "metadata": {},
   "outputs": [],
   "source": [
    "groups_df = pd.json_normalize(groups)\n",
    "groups_df"
   ]
  },
  {
   "cell_type": "markdown",
   "metadata": {},
   "source": [
    "Extracting and Normalizing Group-Specific Data into DataFrames"
   ]
  },
  {
   "cell_type": "code",
   "execution_count": null,
   "metadata": {},
   "outputs": [],
   "source": [
    "groups_df_standard = pd.json_normalize(groups_df[0])\n",
    "groups_df_standard\n",
    "\n",
    "groups_df_standard_title = groups_df_standard[\"title\"][0]\n",
    "groups_df_standard_title\n",
    "\n",
    "groups_df_standard_description = groups_df_standard[\"description\"][0]\n",
    "groups_df_standard_description\n",
    "\n",
    "groups_df_culturally = pd.json_normalize(groups_df[1])\n",
    "groups_df_culturally_title = groups_df_culturally[\"title\"][0]\n",
    "groups_df_culturally_title\n",
    "\n",
    "groups_df_culturally_description = groups_df_culturally[\"description\"][0]\n",
    "groups_df_culturally_description"
   ]
  },
  {
   "cell_type": "markdown",
   "metadata": {},
   "source": [
    "Extracting Denominator Data from Outcome Measures as a List"
   ]
  },
  {
   "cell_type": "code",
   "execution_count": null,
   "metadata": {},
   "outputs": [],
   "source": [
    "denoms = list(df_normalize_outcomes_measures[\"denoms\"])\n",
    "denoms"
   ]
  },
  {
   "cell_type": "markdown",
   "metadata": {},
   "source": [
    "Normalizing and Converting Denominator Data into a DataFrame"
   ]
  },
  {
   "cell_type": "code",
   "execution_count": null,
   "metadata": {},
   "outputs": [],
   "source": [
    "denoms_df = pd.json_normalize(denoms)\n",
    "denoms_df"
   ]
  },
  {
   "cell_type": "markdown",
   "metadata": {},
   "source": [
    "Normalizing and Converting Participant Denominator Data into a DataFrame"
   ]
  },
  {
   "cell_type": "code",
   "execution_count": null,
   "metadata": {},
   "outputs": [],
   "source": [
    "denoms_df_participants = pd.json_normalize(denoms_df[0])\n",
    "denoms_df_participants"
   ]
  },
  {
   "cell_type": "markdown",
   "metadata": {},
   "source": [
    "Normalizing and Converting Participant Counts Data into a DataFrame"
   ]
  },
  {
   "cell_type": "code",
   "execution_count": null,
   "metadata": {},
   "outputs": [],
   "source": [
    "denoms_df_participants_counts = pd.json_normalize(denoms_df_participants[\"counts\"])\n",
    "denoms_df_participants_counts"
   ]
  },
  {
   "cell_type": "markdown",
   "metadata": {},
   "source": [
    "Processing and Refining Standard Participant Counts DataFrame"
   ]
  },
  {
   "cell_type": "code",
   "execution_count": null,
   "metadata": {},
   "outputs": [],
   "source": [
    "denoms_df_participants_counts_standard = pd.json_normalize(denoms_df_participants_counts[0])\n",
    "denoms_df_participants_counts_standard.rename(columns={\"value\": 'Standard Participant Count'}, inplace=True)\n",
    "denoms_df_participants_counts_standard  = denoms_df_participants_counts_standard.drop('groupId', axis=1)\n",
    "denoms_df_participants_counts_standard = denoms_df_participants_counts_standard.astype(float)\n",
    "denoms_df_participants_counts_standard"
   ]
  },
  {
   "cell_type": "markdown",
   "metadata": {},
   "source": [
    "Processing and Refining Culturally Modified Participant Counts DataFrame"
   ]
  },
  {
   "cell_type": "code",
   "execution_count": null,
   "metadata": {},
   "outputs": [],
   "source": [
    "denoms_df_participants_counts_culturally = pd.json_normalize(denoms_df_participants_counts[1])\n",
    "denoms_df_participants_counts_culturally.rename(columns={\"value\": 'Culturally Modified Participant Count'}, inplace=True)\n",
    "denoms_df_participants_counts_culturally = denoms_df_participants_counts_culturally.drop('groupId', axis=1)\n",
    "denoms_df_participants_counts_culturally = denoms_df_participants_counts_culturally.astype(float)\n",
    "denoms_df_participants_counts_culturally"
   ]
  },
  {
   "cell_type": "markdown",
   "metadata": {},
   "source": [
    "Normalizing and Converting Family Denominator Data into a DataFrame"
   ]
  },
  {
   "cell_type": "code",
   "execution_count": null,
   "metadata": {},
   "outputs": [],
   "source": [
    "denoms_df_families = (pd.json_normalize(pd.json_normalize(denoms_df[1])['counts']))\n",
    "denoms_df_families"
   ]
  },
  {
   "cell_type": "markdown",
   "metadata": {},
   "source": [
    "Processing and Refining Standard Families DataFrame"
   ]
  },
  {
   "cell_type": "code",
   "execution_count": null,
   "metadata": {},
   "outputs": [],
   "source": [
    "denoms_df_families_standard = pd.json_normalize(denoms_df_families[0])\n",
    "denoms_df_families_standard.rename(columns={\"value\": 'Standard Families'}, inplace=True)\n",
    "denoms_df_families_standard = denoms_df_families_standard.drop('groupId', axis=1)\n",
    "denoms_df_families_standard = denoms_df_families_standard.astype(float)\n",
    "denoms_df_families_standard"
   ]
  },
  {
   "cell_type": "markdown",
   "metadata": {},
   "source": [
    "Processing and Refining Culturally Modified Families DataFrame"
   ]
  },
  {
   "cell_type": "code",
   "execution_count": null,
   "metadata": {},
   "outputs": [],
   "source": [
    "denoms_df_families_culturally = pd.json_normalize(denoms_df_families[1])\n",
    "denoms_df_families_culturally.rename(columns={\"value\": 'Culturally Modified Families'}, inplace=True)\n",
    "denoms_df_families_culturally = denoms_df_families_culturally.drop('groupId', axis=1)\n",
    "denoms_df_families_culturally = denoms_df_families_culturally.astype(float)\n",
    "denoms_df_families_culturally"
   ]
  },
  {
   "cell_type": "markdown",
   "metadata": {},
   "source": [
    "Normalizing Classes Data for Outcome Measures"
   ]
  },
  {
   "cell_type": "code",
   "execution_count": null,
   "metadata": {},
   "outputs": [],
   "source": [
    "classes = df_normalize_outcomes_measures[\"classes\"]\n",
    "classes_normalized = pd.json_normalize(classes)\n",
    "classes_normalized \n",
    "\n",
    "classes_normalized_2 = pd.json_normalize(classes_normalized[0])\n",
    "classes_normalized_2\n",
    "\n",
    "classes_normalized_3 = pd.json_normalize(classes_normalized_2[\"categories\"])\n",
    "classes_normalized_3\n",
    "\n",
    "classes_normalized_4 = pd.json_normalize(classes_normalized_3[0])\n",
    "classes_normalized_4\n",
    "\n",
    "classes_normalized_5 = pd.json_normalize(classes_normalized_4[\"measurements\"])\n",
    "classes_normalized_5"
   ]
  },
  {
   "cell_type": "markdown",
   "metadata": {},
   "source": [
    "Processing and Refining Standard ADHD Parent Training Results DataFrame"
   ]
  },
  {
   "cell_type": "code",
   "execution_count": null,
   "metadata": {},
   "outputs": [],
   "source": [
    "classes_normalized_standard = pd.json_normalize(classes_normalized_5[0])\n",
    "classes_normalized_standard.rename(columns={\"value\": 'Standard ADHD Parent Training Results'}, inplace=True)\n",
    "classes_normalized_standard = classes_normalized_standard.drop('groupId', axis=1)\n",
    "classes_normalized_standard = classes_normalized_standard.drop('spread', axis=1)\n",
    "classes_normalized_standard = classes_normalized_standard.astype(float)\n",
    "classes_normalized_standard"
   ]
  },
  {
   "cell_type": "markdown",
   "metadata": {},
   "source": [
    "Processing and Refining Culturally-Modified ADHD Parent Training Results DataFrame"
   ]
  },
  {
   "cell_type": "code",
   "execution_count": null,
   "metadata": {},
   "outputs": [],
   "source": [
    "classes_normalized_culturally = pd.json_normalize(classes_normalized_5[1])\n",
    "classes_normalized_culturally.rename(columns={\"value\": 'Culturally-modified ADHD Parent Training Results'}, inplace=True)\n",
    "classes_normalized_culturally = classes_normalized_culturally.drop('groupId', axis=1)\n",
    "classes_normalized_culturally = classes_normalized_culturally.drop('spread', axis=1)\n",
    "classes_normalized_culturally = classes_normalized_culturally.astype(float)\n",
    "classes_normalized_culturally"
   ]
  },
  {
   "cell_type": "markdown",
   "metadata": {},
   "source": [
    "Final Output: Summarizing Groups with Titles and Descriptions"
   ]
  },
  {
   "cell_type": "code",
   "execution_count": null,
   "metadata": {},
   "outputs": [],
   "source": [
    "print(\" ---------- Groups ---------- \\n\")\n",
    "print(f\"Standard:\\n\\n {groups_df_standard_title} \\n {groups_df_standard_description}\\n\")\n",
    "print(f\"Culturally:\\n\\n {groups_df_culturally_title}, \\n {groups_df_culturally_description} \")"
   ]
  },
  {
   "cell_type": "markdown",
   "metadata": {},
   "source": [
    "Final Output: Displaying Titles and Descriptions DataFrames"
   ]
  },
  {
   "cell_type": "code",
   "execution_count": null,
   "metadata": {},
   "outputs": [],
   "source": [
    "print(\" ----------------- DataFrames for ----------------- \\n\")\n",
    "print(f\"Titles:\\n\\n {title_df}\\n\")\n",
    "print(f\"Descriptions:\\n\\n {descriptions_df} \")"
   ]
  },
  {
   "cell_type": "markdown",
   "metadata": {},
   "source": [
    "Final Output: Displaying Denominator Data for Participants and Families"
   ]
  },
  {
   "cell_type": "code",
   "execution_count": null,
   "metadata": {},
   "outputs": [],
   "source": [
    "print(\" ------------------------ Denoms ------------------------ \\n\")\n",
    "print(f\"Standard Participants:\\n\\n {denoms_df_participants_counts_standard} \\n\")\n",
    "print(f\"Culturally Participants:\\n\\n {denoms_df_participants_counts_culturally} \\n \")\n",
    "\n",
    "print(f\"Standard Families:\\n\\n {denoms_df_families_standard} \\n\")\n",
    "print(f\"Culturally Families:\\n\\n {denoms_df_families_culturally} \")"
   ]
  },
  {
   "cell_type": "markdown",
   "metadata": {},
   "source": [
    "Final Output: Displaying Results for Standard and Culturally-Modified Classes"
   ]
  },
  {
   "cell_type": "code",
   "execution_count": null,
   "metadata": {},
   "outputs": [],
   "source": [
    "print(\" ----------- Classes (Results) ----------- \\n \")\n",
    "print(f\"Standard:\\n\\n {classes_normalized_standard} \\n\")\n",
    "print(f\"Culturally:\\n\\n {classes_normalized_culturally} \")"
   ]
  },
  {
   "cell_type": "markdown",
   "metadata": {},
   "source": [
    "Merging and Creating Final Clinical Trials DataFrame"
   ]
  },
  {
   "cell_type": "code",
   "execution_count": null,
   "metadata": {},
   "outputs": [],
   "source": [
    "import pandas as pd\n",
    "import matplotlib.pyplot as plt\n",
    "\n",
    "# Reference: https://www.geeksforgeeks.org/python-pandas-merging-joining-and-concatenating/\n",
    "frames = [title_df, descriptions_df, denoms_df_participants_counts_standard, \n",
    "          denoms_df_participants_counts_culturally, denoms_df_families_standard, \n",
    "          denoms_df_families_culturally, classes_normalized_standard, classes_normalized_culturally]\n",
    "\n",
    "clinical_trials_final_df = pd.concat(frames, axis=1, join='inner')\n",
    "clinical_trials_final_df = clinical_trials_final_df.fillna(0)\n",
    "clinical_trials_final_df"
   ]
  },
  {
   "cell_type": "markdown",
   "metadata": {},
   "source": [
    "Creating Treatment DataFrame by Removing the Last N Rows"
   ]
  },
  {
   "cell_type": "code",
   "execution_count": null,
   "metadata": {},
   "outputs": [],
   "source": [
    "# Reference: https://www.geeksforgeeks.org/remove-last-n-rows-of-a-pandas-dataframe/\n",
    "\n",
    "# Number of rows to drop\n",
    "n = 3\n",
    "\n",
    "# Removing last n rows\n",
    "treatment_df = clinical_trials_final_df.iloc[:-n]\n",
    "treatment_df"
   ]
  },
  {
   "cell_type": "markdown",
   "metadata": {},
   "source": [
    "Creating Treatment Results DataFrame by Dropping Non-Results Columns"
   ]
  },
  {
   "cell_type": "code",
   "execution_count": null,
   "metadata": {},
   "outputs": [],
   "source": [
    "columns_to_drop = ['Standard Participant Count', 'Culturally Modified Participant Count', 'Standard Families', 'Culturally Modified Families']\n",
    "\n",
    "treatment_results_only_df = treatment_df.drop(columns=columns_to_drop, axis=1)\n",
    "treatment_results_only_df"
   ]
  },
  {
   "cell_type": "markdown",
   "metadata": {},
   "source": [
    "<h5><b>Grouped Bar Chart:</b> Visualizing ADHD Treatment Data for Latino Families</h5>\n"
   ]
  },
  {
   "cell_type": "code",
   "execution_count": null,
   "metadata": {},
   "outputs": [],
   "source": [
    "# Reference: https://www.youtube.com/watch?v=1h0LvhDg9NA: Plot Grouped Bar Graph With Python and Pandas\n",
    "# Reference: https://www.geeksforgeeks.org/create-a-grouped-bar-plot-in-matplotlib/\n",
    "\n",
    "import matplotlib.pyplot as plt\n",
    "import pandas as pd\n",
    "import textwrap\n",
    "\n",
    "ax = treatment_results_only_df.plot(x='Title', \n",
    "        kind='bar', \n",
    "        stacked=False, \n",
    "        title='ADHD Treatment for Latino Families', figsize=(10,8)) \n",
    "\n",
    "x_axis=range(3)\n",
    "ax.margins(y=0.25)  # Add 25% margin above the tallest bar\n",
    "\n",
    "# Reference: https://stackoverflow.com/questions/10998621/rotate-axis-tick-labels\n",
    "plt.xticks(rotation='horizontal')\n",
    "plt.legend(loc='upper right')\n",
    "\n",
    "# Reference: https://stackoverflow.com/questions/57473450/split-tick-labels-or-wrap-tick-labels/57473887\n",
    "wrapped_labels = [textwrap.fill(title, 10) for title in treatment_df['Title']]\n",
    "plt.xticks(range(len(wrapped_labels)), wrapped_labels, fontsize=10, ha='center')\n",
    "\n",
    "plt.tight_layout()\n",
    "plt.show()"
   ]
  },
  {
   "cell_type": "markdown",
   "metadata": {},
   "source": [
    "Creating DataFrame by Removing the First F Rows"
   ]
  },
  {
   "cell_type": "code",
   "execution_count": null,
   "metadata": {},
   "outputs": [],
   "source": [
    "# Number of rows to drop\n",
    "f = 4\n",
    "# Removing first f rows\n",
    "change_df =clinical_trials_final_df.iloc[f:-1]\n",
    "change_df"
   ]
  },
  {
   "cell_type": "markdown",
   "metadata": {},
   "source": [
    "Creating Change Results DataFrame by Dropping Non-Results Columns"
   ]
  },
  {
   "cell_type": "code",
   "execution_count": null,
   "metadata": {},
   "outputs": [],
   "source": [
    "columns_to_drop2 = ['Standard Participant Count', 'Culturally Modified Participant Count', 'Standard Families', 'Culturally Modified Families']\n",
    "\n",
    "change_results_only_df = change_df.drop(columns=columns_to_drop2, axis=1)\n",
    "change_results_only_df"
   ]
  },
  {
   "cell_type": "markdown",
   "metadata": {},
   "source": [
    "Scatter Plot: Comparing ADHD Treatment Outcomes for Latino Families"
   ]
  },
  {
   "cell_type": "code",
   "execution_count": null,
   "metadata": {},
   "outputs": [],
   "source": [
    "# Reference: https://matplotlib.org/stable/gallery/lines_bars_and_markers/scatter_with_legend.html#sphx-glr-gallery-lines-bars-and-markers-scatter-with-legend-py\n",
    "# Reference: https://stackoverflow.com/questions/39712767/how-to-set-size-for-scatter-plot\n",
    "\n",
    "import matplotlib.pyplot as plt\n",
    "\n",
    "plt.figure(figsize=(6, 6))\n",
    "\n",
    "# Reference: https://www.geeksforgeeks.org/matplotlib-pyplot-scatter-in-python/\n",
    "# dataset1\n",
    "x1 = change_results_only_df[\"Title\"]\n",
    "y1 = change_results_only_df[\"Standard ADHD Parent Training Results\"]\t\n",
    " \n",
    "# dataset2\n",
    "x2 = change_results_only_df[\"Title\"]\n",
    "y2 = change_results_only_df[\"Culturally-modified ADHD Parent Training Results\"]\t\n",
    " \n",
    "# Reference: https://matplotlib.org/stable/api/markers_api.html\n",
    "plt.scatter(x1, y1, c =\"blue\", \n",
    "            linewidths = 2, \n",
    "            marker =\"o\", \n",
    "            edgecolor =\"blue\", \n",
    "            s = 50, label=\"Standard ADHD Parent Training Results\")\n",
    " \n",
    "plt.scatter(x2, y2, c =\"orange\",\n",
    "            linewidths = 2,\n",
    "            marker =\"o\", \n",
    "            edgecolor =\"orange\", \n",
    "            s = 50, label= \"Culturally-modified ADHD Parent Training Results\")\n",
    "\n",
    "wrapped_labels2 = [textwrap.fill(title, 15) for title in change_results_only_df['Title']]\n",
    "plt.xticks(\n",
    "    range(len(wrapped_labels2)),  # Set positions\n",
    "    wrapped_labels2,             # Wrapped labels\n",
    "    fontsize=10, \n",
    "    ha='center', \n",
    "    rotation=0  \n",
    ")\n",
    "\n",
    "# Reference: https://stackoverflow.com/questions/42223587/how-to-add-title-and-xlabel-and-ylabel\n",
    "plt.ylabel(\"Change in Scores (Closer to 0 = Worse)\")\n",
    "plt.legend(loc='lower left')\n",
    "plt.title(\"ADHD Treatment for Latino Families\")\n",
    "\n",
    "# Reference: https://stackoverflow.com/questions/66446687/how-do-i-make-a-dashed-horizontal-line-with-matplotlib\n",
    "plt.axhline(0, linestyle='--', color=\"black\", linewidth=0.8)\n",
    "\n",
    "# Adjust layout\n",
    "plt.tight_layout()\n",
    "plt.show()"
   ]
  },
  {
   "cell_type": "markdown",
   "metadata": {},
   "source": [
    "Creating a DataFrame Without Descriptions Column"
   ]
  },
  {
   "cell_type": "code",
   "execution_count": null,
   "metadata": {},
   "outputs": [],
   "source": [
    "change_results_only_df_dropped_descriptions = change_results_only_df.drop('Descriptions', axis=1)\n",
    "change_results_only_df_dropped_descriptions"
   ]
  },
  {
   "cell_type": "markdown",
   "metadata": {},
   "source": [
    "Creating and Displaying a DataFrame as a Table Using Matplotlib"
   ]
  },
  {
   "cell_type": "code",
   "execution_count": null,
   "metadata": {},
   "outputs": [],
   "source": [
    "import pandas as pd\n",
    "import matplotlib.pyplot as plt\n",
    "\n",
    "# Reference: https://www.scaler.com/topics/matplotlib/matplotlib-table/\n",
    "# Reference: https://stackoverflow.com/questions/32137396/how-do-i-plot-only-a-table-in-matplotlib\n",
    "\n",
    "# Create a figure and axes\n",
    "fig, ax = plt.subplots()\n",
    "\n",
    "# Hide the axes\n",
    "ax.axis('off')\n",
    "\n",
    "# Create the table\n",
    "table = ax.table(cellText=change_results_only_df_dropped_descriptions.values, colLabels=change_results_only_df_dropped_descriptions.columns, loc='center')\n",
    "\n",
    "# Adjust table properties \n",
    "table.auto_set_font_size(False)\n",
    "table.set_fontsize(12)\n",
    "table.scale(5.5, 5.5) \n",
    "\n",
    "# Show the plot\n",
    "plt.show()"
   ]
  },
  {
   "cell_type": "markdown",
   "metadata": {},
   "source": [
    "## Findings: Effectiveness of Culturally Modified ADHD Treatments\n",
    "\n",
    "* **Improved Outcomes**:\n",
    "\n",
    "   - Culturally modified treatments lead to better outcomes for Latino families, including increased engagement, improved acceptability, and reduced stress levels.\n",
    "\n",
    "\n",
    "* **Comparative Analysis**:\n",
    "\n",
    "   - Scatter plots and bar charts demonstrate the superior effectiveness of culturally adapted treatments over standard methods.\n",
    "\n",
    "* **Potential Applications**:\n",
    "\n",
    "   - These findings support extending culturally modified treatments to diverse populations and exploring their effectiveness in other demographic groups.\n",
    "\n",
    "## Key Insights\n",
    "\n",
    "* <b> ADHD Prevalence: </b>\n",
    "\n",
    "    - Lower among Hispanic children, but severe ADHD cases are proportionally higher compared to Non-Hispanic children.\n",
    "\n",
    "* <b>Treatment Disparities:</b>\n",
    "\n",
    "    - Hispanic children are less likely to receive medication or behavioral treatment (37.3%) compared to Non-Hispanic children (28.2%).\n",
    "\n",
    "* <b>Culturally Modified Treatment: </b>\n",
    "\n",
    "    - Showed significant benefits, including:\n",
    "    \n",
    "        - Improved engagement in treatment\n",
    "        - Greater acceptability of treatment\n",
    "        - Reduction in ADHD symptoms\n",
    "        - Decrease in maternal parenting stress\n",
    "\n",
    "These findings emphasize the need for culturally tailored interventions to reduce disparities and improve outcomes.\n"
   ]
  }
 ],
 "metadata": {
  "kernelspec": {
   "display_name": ".venv",
   "language": "python",
   "name": "python3"
  },
  "language_info": {
   "codemirror_mode": {
    "name": "ipython",
    "version": 3
   },
   "file_extension": ".py",
   "mimetype": "text/x-python",
   "name": "python",
   "nbconvert_exporter": "python",
   "pygments_lexer": "ipython3",
   "version": "3.12.5"
  }
 },
 "nbformat": 4,
 "nbformat_minor": 2
}
